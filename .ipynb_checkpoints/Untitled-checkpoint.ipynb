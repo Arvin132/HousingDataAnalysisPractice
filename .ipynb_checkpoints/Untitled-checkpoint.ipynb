{
 "cells": [
  {
   "cell_type": "code",
   "execution_count": 23,
   "id": "9cb62cad",
   "metadata": {},
   "outputs": [
    {
     "name": "stdout",
     "output_type": "stream",
     "text": [
      "    Country Code      1990      1991      1992      1993      1994      1995  \\\n",
      "0            ABW       NaN       NaN       NaN       NaN       NaN       NaN   \n",
      "1            AFE  0.999038  0.953224  0.915661  0.916485  0.917093  0.936570   \n",
      "2            AFG  0.191745  0.167682  0.095958  0.084721  0.075546  0.068468   \n",
      "3            AFW  0.478144  0.530016  0.568305  0.523529  0.470888  0.501681   \n",
      "4            AGO  0.553662  0.544539  0.543557  0.708984  0.836804  0.912141   \n",
      "..           ...       ...       ...       ...       ...       ...       ...   \n",
      "261          XKX       NaN       NaN       NaN       NaN       NaN       NaN   \n",
      "262          YEM  0.567037  0.690937  0.704793  0.627105  0.653256  0.706081   \n",
      "263          ZAF  6.729799  6.424622  6.175430  6.219194  6.215847  6.378790   \n",
      "264          ZMB  0.340930  0.349232  0.337224  0.289956  0.241270  0.234153   \n",
      "265          ZWE  1.585444  1.713321  1.694416  1.539741  1.417186  1.356619   \n",
      "\n",
      "         1996      1997      1998  ...      2012      2013      2014  \\\n",
      "0         NaN       NaN       NaN  ...       NaN       NaN       NaN   \n",
      "1    0.947393  0.967836  0.967182  ...  0.992616  1.005027  1.016649   \n",
      "2    0.062588  0.056827  0.052691  ...  0.259295  0.185624  0.146236   \n",
      "3    0.564390  0.549638  0.514868  ...  0.480603  0.508099  0.515960   \n",
      "4    1.072168  1.086637  1.091825  ...  0.950696  1.036294  1.099779   \n",
      "..        ...       ...       ...  ...       ...       ...       ...   \n",
      "261       NaN       NaN       NaN  ...       NaN       NaN       NaN   \n",
      "262  0.698158  0.728608  0.757433  ...  0.858491  1.106688  1.062211   \n",
      "263  6.489192  6.723589  6.787424  ...  8.077958  8.138264  8.212241   \n",
      "264  0.188442  0.238601  0.219937  ...  0.278601  0.284058  0.304550   \n",
      "265  1.287559  1.186793  1.197745  ...  0.915735  0.919824  0.889104   \n",
      "\n",
      "         2015      2016      2017      2018      2019  2020  2021  \n",
      "0         NaN       NaN       NaN       NaN       NaN   NaN   NaN  \n",
      "1    0.966589  0.948410  0.937926  0.917507  0.913618   NaN   NaN  \n",
      "2    0.172897  0.149789  0.131695  0.163295  0.159824   NaN   NaN  \n",
      "3    0.494065  0.499405  0.483140  0.486456  0.493923   NaN   NaN  \n",
      "4    1.135044  1.031811  0.813301  0.777675  0.792137   NaN   NaN  \n",
      "..        ...       ...       ...       ...       ...   ...   ...  \n",
      "261       NaN       NaN       NaN       NaN       NaN   NaN   NaN  \n",
      "262  0.511362  0.399364  0.359622  0.341068  0.380633   NaN   NaN  \n",
      "263  7.669938  7.563739  7.641675  7.515679  7.507736   NaN   NaN  \n",
      "264  0.312355  0.325115  0.404068  0.445489  0.380717   NaN   NaN  \n",
      "265  0.899770  0.785441  0.726297  0.857411  0.802979   NaN   NaN  \n",
      "\n",
      "[266 rows x 33 columns]\n"
     ]
    }
   ],
   "source": [
    "import pandas as pd\n",
    "import numpy as np\n",
    "import matplotlib.pyplot as plot\n",
    "\n",
    "co2Data = pd.read_csv(\"./API_EN.ATM.CO2E.PC_DS2_en_csv_v2_4752251.csv\", on_bad_lines= 'skip')\n",
    "\n",
    "\n",
    "#clean up some data\n",
    "yearRange = range(1960, 1990) \n",
    "co2Data.drop(\"Country Name\", axis = 1, inplace = True)\n",
    "co2Data.drop(\"Indicator Code\", axis = 1, inplace = True)\n",
    "co2Data.drop(\"Indicator Name\", axis = 1, inplace = True)\n",
    "for i in range(1960, 1990):\n",
    "    co2Data.drop(f'{i}', axis = 1, inplace = True)\n",
    "print(co2Data)\n"
   ]
  },
  {
   "cell_type": "code",
   "execution_count": null,
   "id": "82c4b407",
   "metadata": {},
   "outputs": [],
   "source": []
  },
  {
   "cell_type": "code",
   "execution_count": null,
   "id": "1e79a80e",
   "metadata": {},
   "outputs": [],
   "source": []
  },
  {
   "cell_type": "code",
   "execution_count": null,
   "id": "c939ae11",
   "metadata": {},
   "outputs": [],
   "source": []
  }
 ],
 "metadata": {
  "kernelspec": {
   "display_name": "Python 3 (ipykernel)",
   "language": "python",
   "name": "python3"
  },
  "language_info": {
   "codemirror_mode": {
    "name": "ipython",
    "version": 3
   },
   "file_extension": ".py",
   "mimetype": "text/x-python",
   "name": "python",
   "nbconvert_exporter": "python",
   "pygments_lexer": "ipython3",
   "version": "3.9.7"
  }
 },
 "nbformat": 4,
 "nbformat_minor": 5
}
